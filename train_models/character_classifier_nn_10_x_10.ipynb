{
 "cells": [
  {
   "cell_type": "code",
   "execution_count": 1,
   "metadata": {},
   "outputs": [
    {
     "name": "stderr",
     "output_type": "stream",
     "text": [
      "C:\\Users\\Sai\\AppData\\Local\\Packages\\PythonSoftwareFoundation.Python.3.11_qbz5n2kfra8p0\\LocalCache\\local-packages\\Python311\\site-packages\\tqdm\\auto.py:21: TqdmWarning: IProgress not found. Please update jupyter and ipywidgets. See https://ipywidgets.readthedocs.io/en/stable/user_install.html\n",
      "  from .autonotebook import tqdm as notebook_tqdm\n"
     ]
    },
    {
     "name": "stdout",
     "output_type": "stream",
     "text": [
      "Using device: cuda\n"
     ]
    }
   ],
   "source": [
    "import sys\n",
    "sys.path.append('..') \n",
    "from model_architectures import *\n",
    "import numpy as np\n",
    "import pandas as pd\n",
    "from skimage.feature import hog\n",
    "from sklearn.model_selection import train_test_split\n",
    "import torch.optim as optim\n",
    "from torch.optim.lr_scheduler import StepLR, OneCycleLR\n",
    "from collections import Counter\n",
    "\n",
    "height, width = 10, 10"
   ]
  },
  {
   "cell_type": "code",
   "execution_count": 2,
   "metadata": {},
   "outputs": [
    {
     "name": "stdout",
     "output_type": "stream",
     "text": [
      "Using device: cuda\n",
      "Counter({0: 50000, 51: 4886, 26: 4856, 54: 4848, 12: 4834, 58: 4833, 90: 4831, 31: 4827, 32: 4826, 62: 4825, 83: 4825, 60: 4823, 64: 4819, 56: 4819, 77: 4818, 79: 4816, 88: 4810, 80: 4806, 65: 4806, 92: 4804, 85: 4802, 20: 4800, 55: 4798, 93: 4795, 71: 4791, 45: 4789, 36: 4785, 22: 4783, 9: 4783, 34: 4782, 1: 4780, 5: 4779, 37: 4778, 33: 4777, 72: 4777, 70: 4775, 29: 4772, 40: 4770, 23: 4769, 35: 4769, 15: 4765, 69: 4764, 49: 4761, 8: 4759, 39: 4755, 73: 4746, 7: 4745, 59: 4741, 50: 4740, 4: 4740, 66: 4737, 87: 4735, 76: 4734, 44: 4731, 86: 4730, 74: 4727, 57: 4726, 28: 4724, 61: 4722, 82: 4719, 30: 4717, 21: 4714, 13: 4714, 89: 4713, 14: 4712, 10: 4699, 2: 4696, 18: 4695, 38: 4694, 81: 4693, 68: 4690, 91: 4690, 84: 4688, 3: 4688, 95: 4688, 53: 4687, 17: 4683, 16: 4682, 24: 4678, 75: 4677, 6: 4673, 46: 4665, 63: 4661, 27: 4642, 19: 4639, 43: 4631, 78: 4625, 11: 4624, 47: 4621, 41: 4619, 42: 4604, 67: 4603, 25: 4586, 48: 4584, 52: 4582, 94: 4576})\n"
     ]
    }
   ],
   "source": [
    "# Enable GPU usage for faster training\n",
    "device = torch.device(\"cuda\" if torch.cuda.is_available() else \"cpu\")\n",
    "# device = \"cpu\"\n",
    "print(f\"Using device: {device}\")\n",
    "data = pd.read_csv(f\"../archive/ascii_character_classification_{height}_x_{width}.csv\", header=0)\n",
    "\n",
    "label_counts = Counter(data.iloc[:, 0])\n",
    "print(label_counts)"
   ]
  },
  {
   "cell_type": "code",
   "execution_count": 3,
   "metadata": {},
   "outputs": [],
   "source": [
    "X = data.iloc[:, 1:].astype(\"float64\")   # Features are all columns except the first one\n",
    "y = data.iloc[:, 0].astype(\"float64\")     # Labels are the first column\n",
    "\n",
    "def extract_hog_features(images):\n",
    "    hog_features = []\n",
    "    for image in images:\n",
    "        image_reshaped = image.reshape((10, 10))\n",
    "        features = hog(image_reshaped, pixels_per_cell=(2, 2), cells_per_block=(1, 1), feature_vector=True)\n",
    "        hog_features.append(features)\n",
    "    return np.array(hog_features)\n",
    "\n",
    "# X_hog = extract_hog_features(np.array(X))\n",
    "\n",
    "X_train, X_test, y_train, y_test = train_test_split(X, y, test_size=0.2, random_state=42)\n"
   ]
  },
  {
   "cell_type": "code",
   "execution_count": 4,
   "metadata": {},
   "outputs": [],
   "source": [
    "\n",
    "X_train_tensor = torch.tensor(np.array(X_train), dtype=torch.float32)\n",
    "y_train_tensor = torch.tensor(np.array(y_train), dtype=torch.long)\n",
    "X_test_tensor = torch.tensor(np.array(X_test), dtype=torch.float32)\n",
    "y_test_tensor = torch.tensor(np.array(y_test), dtype=torch.long)\n",
    "\n",
    "\n",
    "batch_size = 1024\n",
    "train_data = TensorDataset(X_train_tensor, y_train_tensor)\n",
    "train_loader = DataLoader(train_data, batch_size=batch_size, shuffle=False)\n",
    "\n",
    "test_data = TensorDataset(X_train_tensor, y_train_tensor)\n",
    "test_loader = DataLoader(train_data, batch_size=batch_size, shuffle=False)\n",
    "\n",
    "\n",
    "input_features = X_train_tensor.size(1)\n",
    "output_classes = 96"
   ]
  },
  {
   "cell_type": "code",
   "execution_count": 5,
   "metadata": {},
   "outputs": [
    {
     "data": {
      "text/plain": [
       "NeuralNetwork(\n",
       "  (fc1): Linear(in_features=100, out_features=1024, bias=True)\n",
       "  (fc2): Linear(in_features=1024, out_features=256, bias=True)\n",
       "  (fc3): Linear(in_features=256, out_features=64, bias=True)\n",
       "  (fc4): Linear(in_features=64, out_features=96, bias=True)\n",
       "  (relu): ReLU()\n",
       "  (softmax): Softmax(dim=1)\n",
       ")"
      ]
     },
     "execution_count": 5,
     "metadata": {},
     "output_type": "execute_result"
    }
   ],
   "source": [
    "model = NeuralNetwork(input_features, 1024, 256, 64, output_classes)\n",
    "model.to(device)"
   ]
  },
  {
   "cell_type": "code",
   "execution_count": 6,
   "metadata": {},
   "outputs": [],
   "source": [
    "# Define loss function and optimizer\n",
    "criterion = nn.CrossEntropyLoss()\n",
    "optimizer = optim.Adam(model.parameters(), lr=1e-3)\n",
    "# scheduler = StepLR(optimizer, step_size=5, gamma=0.5)  # Adjust step_size and gamma as needed\n",
    "\n",
    "# Compute Train Accuracy\n",
    "def compute_accuracy(model, data_loader, device):\n",
    "    correct_pred, num_examples = 0, 0\n",
    "    for features, targets in data_loader:\n",
    "        features = features.to(device)\n",
    "        targets = targets.to(device)\n",
    "        outputs = model(features)\n",
    "        _, predicted_labels = torch.max(outputs, 1)\n",
    "        num_examples += targets.size(0)\n",
    "        correct_pred += (predicted_labels == targets).sum().item()\n",
    "    return correct_pred / num_examples * 100"
   ]
  },
  {
   "cell_type": "code",
   "execution_count": 7,
   "metadata": {},
   "outputs": [
    {
     "name": "stdout",
     "output_type": "stream",
     "text": [
      "Epoch [1/10], Step [100/391], Loss: 4.4686\n",
      "Epoch [1/10], Step [200/391], Loss: 4.3470\n",
      "Epoch [1/10], Step [300/391], Loss: 4.2944\n",
      "Epoch [1/10], Training Accuracy: 30.67%\n",
      "Epoch [2/10], Step [100/391], Loss: 4.2700\n",
      "Epoch [2/10], Step [200/391], Loss: 4.2692\n",
      "Epoch [2/10], Step [300/391], Loss: 4.2700\n",
      "Epoch [2/10], Training Accuracy: 31.19%\n",
      "Epoch [3/10], Step [100/391], Loss: 4.2664\n",
      "Epoch [3/10], Step [200/391], Loss: 4.2645\n",
      "Epoch [3/10], Step [300/391], Loss: 4.2647\n",
      "Epoch [3/10], Training Accuracy: 31.71%\n",
      "Epoch [4/10], Step [100/391], Loss: 4.2607\n",
      "Epoch [4/10], Step [200/391], Loss: 4.2626\n",
      "Epoch [4/10], Step [300/391], Loss: 4.2637\n",
      "Epoch [4/10], Training Accuracy: 31.71%\n",
      "Epoch [5/10], Step [100/391], Loss: 4.2602\n",
      "Epoch [5/10], Step [200/391], Loss: 4.2604\n",
      "Epoch [5/10], Step [300/391], Loss: 4.2619\n",
      "Epoch [5/10], Training Accuracy: 32.86%\n",
      "Epoch [6/10], Step [100/391], Loss: 4.2494\n",
      "Epoch [6/10], Step [200/391], Loss: 4.2512\n",
      "Epoch [6/10], Step [300/391], Loss: 4.2523\n",
      "Epoch [6/10], Training Accuracy: 32.86%\n",
      "Epoch [7/10], Step [100/391], Loss: 4.2488\n",
      "Epoch [7/10], Step [200/391], Loss: 4.2462\n",
      "Epoch [7/10], Step [300/391], Loss: 4.2432\n",
      "Epoch [7/10], Training Accuracy: 33.86%\n",
      "Epoch [8/10], Step [100/391], Loss: 4.2382\n",
      "Epoch [8/10], Step [200/391], Loss: 4.2410\n",
      "Epoch [8/10], Step [300/391], Loss: 4.2424\n",
      "Epoch [8/10], Training Accuracy: 33.86%\n",
      "Epoch [9/10], Step [100/391], Loss: 4.2381\n",
      "Epoch [9/10], Step [200/391], Loss: 4.2408\n",
      "Epoch [9/10], Step [300/391], Loss: 4.2387\n",
      "Epoch [9/10], Training Accuracy: 34.97%\n",
      "Epoch [10/10], Step [100/391], Loss: 4.2275\n",
      "Epoch [10/10], Step [200/391], Loss: 4.2298\n",
      "Epoch [10/10], Step [300/391], Loss: 4.2313\n",
      "Epoch [10/10], Training Accuracy: 35.93%\n",
      "Training finished.\n"
     ]
    }
   ],
   "source": [
    "num_epochs = 10\n",
    "\n",
    "train_losses = []\n",
    "train_accuracies = []\n",
    "\n",
    "for epoch in range(num_epochs):\n",
    "    running_loss = 0.0\n",
    "    for i, (features, labels) in enumerate(train_loader):\n",
    "        optimizer.zero_grad()\n",
    "\n",
    "        features = features.to(device)\n",
    "        labels = labels.to(device)\n",
    "\n",
    "        outputs = model(features)\n",
    "        loss = criterion(outputs, labels)\n",
    "        loss.backward()\n",
    "        optimizer.step()\n",
    "\n",
    "        running_loss += loss.item()\n",
    "\n",
    "        if (i+1) % 100 == 0:\n",
    "            print(f'Epoch [{epoch+1}/{num_epochs}], Step [{i+1}/{len(train_loader)}], Loss: {running_loss / 100:.4f}')\n",
    "            running_loss = 0.0\n",
    "\n",
    "    # scheduler.step()\n",
    "\n",
    "    train_accuracy = compute_accuracy(model, train_loader, device)\n",
    "    print(f'Epoch [{epoch+1}/{num_epochs}], Training Accuracy: {train_accuracy:.2f}%')\n",
    "\n",
    "    # Save losses and accuracies\n",
    "    train_losses.append(running_loss)\n",
    "    train_accuracies.append(train_accuracy)\n",
    "\n",
    "print('Training finished.')"
   ]
  },
  {
   "cell_type": "code",
   "execution_count": 8,
   "metadata": {},
   "outputs": [
    {
     "data": {
      "image/png": "[encoded data removed]",
      "text/plain": [
       "<Figure size 1200x400 with 2 Axes>"
      ]
     },
     "metadata": {},
     "output_type": "display_data"
    }
   ],
   "source": [
    "# Plotting training accuracies and losses\n",
    "plt.figure(figsize=(12, 4))\n",
    "plt.subplot(1, 2, 1)\n",
    "plt.plot(train_accuracies, label='Training Accuracy')\n",
    "plt.title('Training Accuracy Over Epochs')\n",
    "plt.xlabel('Epoch')\n",
    "plt.ylabel('Accuracy (%)')\n",
    "plt.legend()\n",
    "\n",
    "plt.subplot(1, 2, 2)\n",
    "plt.plot(train_losses, label='Training Loss')\n",
    "plt.title('Training Loss Over Epochs')\n",
    "plt.xlabel('Epoch')\n",
    "plt.ylabel('Loss')\n",
    "plt.legend()\n",
    "\n",
    "plt.tight_layout()\n",
    "plt.show()"
   ]
  },
  {
   "cell_type": "code",
   "execution_count": 9,
   "metadata": {},
   "outputs": [],
   "source": [
    "torch.save(model.state_dict(), f'../artifacts/nn_ascii_classifier_{height}_x_{width}.pth')"
   ]
  },
  {
   "cell_type": "code",
   "execution_count": 10,
   "metadata": {},
   "outputs": [
    {
     "name": "stdout",
     "output_type": "stream",
     "text": [
      "Test Accuracy: 35.9260%\n"
     ]
    }
   ],
   "source": [
    "model.eval()\n",
    "\n",
    "correct = 0\n",
    "total = 0\n",
    "\n",
    "\n",
    "with torch.no_grad():\n",
    "    for i, (features, labels) in enumerate(test_loader):\n",
    "        optimizer.zero_grad()\n",
    "\n",
    "        features = features.to(device)\n",
    "        labels = labels.to(device)\n",
    "\n",
    "        outputs = model(features)\n",
    "        probabilities = F.softmax(outputs, dim=1)\n",
    "        \n",
    "        _, predicted = torch.max(probabilities, 1)\n",
    "\n",
    "        \n",
    "\n",
    "        total += labels.size(0)\n",
    "        correct += (predicted == labels).sum().item()\n",
    "        \n",
    "\n",
    "\n",
    "    \n",
    "accuracy = correct / total\n",
    "print(f'Test Accuracy: {accuracy * 100:.4f}%')"
   ]
  }
 ],
 "metadata": {
  "kernelspec": {
   "display_name": "Python 3",
   "language": "python",
   "name": "python3"
  },
  "language_info": {
   "codemirror_mode": {
    "name": "ipython",
    "version": 3
   },
   "file_extension": ".py",
   "mimetype": "text/x-python",
   "name": "python",
   "nbconvert_exporter": "python",
   "pygments_lexer": "ipython3",
   "version": "3.11.9"
  }
 },
 "nbformat": 4,
 "nbformat_minor": 2
}

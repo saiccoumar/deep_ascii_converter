{
 "cells": [
  {
   "cell_type": "code",
   "execution_count": 1,
   "metadata": {},
   "outputs": [
    {
     "name": "stderr",
     "output_type": "stream",
     "text": [
      "C:\\Users\\Sai\\AppData\\Local\\Packages\\PythonSoftwareFoundation.Python.3.11_qbz5n2kfra8p0\\LocalCache\\local-packages\\Python311\\site-packages\\tqdm\\auto.py:21: TqdmWarning: IProgress not found. Please update jupyter and ipywidgets. See https://ipywidgets.readthedocs.io/en/stable/user_install.html\n",
      "  from .autonotebook import tqdm as notebook_tqdm\n"
     ]
    },
    {
     "name": "stdout",
     "output_type": "stream",
     "text": [
      "Using device: cuda\n"
     ]
    }
   ],
   "source": [
    "import sys\n",
    "sys.path.append('..') \n",
    "from model_architectures import *\n",
    "from sklearn.model_selection import train_test_split\n",
    "import torch.optim as optim\n",
    "from torch.optim.lr_scheduler import StepLR, OneCycleLR\n",
    "from collections import Counter\n",
    "from skimage.feature import hog\n",
    "# os.environ[\"CUDA_LAUNCH_BLOCKING\"] = \"1\"\n",
    "height, width = 10, 10"
   ]
  },
  {
   "cell_type": "code",
   "execution_count": 2,
   "metadata": {},
   "outputs": [
    {
     "name": "stdout",
     "output_type": "stream",
     "text": [
      "Using device: cuda\n"
     ]
    }
   ],
   "source": [
    "# Enable GPU usage for faster training\n",
    "device = torch.device(\"cuda\" if torch.cuda.is_available() else \"cpu\")\n",
    "# device = \"cpu\"\n",
    "print(f\"Using device: {device}\")"
   ]
  },
  {
   "cell_type": "code",
   "execution_count": 3,
   "metadata": {},
   "outputs": [
    {
     "data": {
      "text/plain": [
       "ResNet(\n",
       "  (conv1): Conv2d(1, 64, kernel_size=(3, 3), stride=(1, 1), padding=(1, 1), bias=False)\n",
       "  (bn1): BatchNorm2d(64, eps=1e-05, momentum=0.1, affine=True, track_running_stats=True)\n",
       "  (relu): ReLU(inplace=True)\n",
       "  (layer1): Sequential(\n",
       "    (0): BasicBlock(\n",
       "      (conv1): Conv2d(64, 64, kernel_size=(3, 3), stride=(1, 1), padding=(1, 1), bias=False)\n",
       "      (bn1): BatchNorm2d(64, eps=1e-05, momentum=0.1, affine=True, track_running_stats=True)\n",
       "      (relu): ReLU(inplace=True)\n",
       "      (conv2): Conv2d(64, 64, kernel_size=(3, 3), stride=(1, 1), padding=(1, 1), bias=False)\n",
       "      (bn2): BatchNorm2d(64, eps=1e-05, momentum=0.1, affine=True, track_running_stats=True)\n",
       "    )\n",
       "    (1): BasicBlock(\n",
       "      (conv1): Conv2d(64, 64, kernel_size=(3, 3), stride=(1, 1), padding=(1, 1), bias=False)\n",
       "      (bn1): BatchNorm2d(64, eps=1e-05, momentum=0.1, affine=True, track_running_stats=True)\n",
       "      (relu): ReLU(inplace=True)\n",
       "      (conv2): Conv2d(64, 64, kernel_size=(3, 3), stride=(1, 1), padding=(1, 1), bias=False)\n",
       "      (bn2): BatchNorm2d(64, eps=1e-05, momentum=0.1, affine=True, track_running_stats=True)\n",
       "    )\n",
       "  )\n",
       "  (layer2): Sequential(\n",
       "    (0): BasicBlock(\n",
       "      (conv1): Conv2d(64, 128, kernel_size=(3, 3), stride=(2, 2), padding=(1, 1), bias=False)\n",
       "      (bn1): BatchNorm2d(128, eps=1e-05, momentum=0.1, affine=True, track_running_stats=True)\n",
       "      (relu): ReLU(inplace=True)\n",
       "      (conv2): Conv2d(128, 128, kernel_size=(3, 3), stride=(1, 1), padding=(1, 1), bias=False)\n",
       "      (bn2): BatchNorm2d(128, eps=1e-05, momentum=0.1, affine=True, track_running_stats=True)\n",
       "      (downsample): Sequential(\n",
       "        (0): Conv2d(64, 128, kernel_size=(1, 1), stride=(2, 2), bias=False)\n",
       "        (1): BatchNorm2d(128, eps=1e-05, momentum=0.1, affine=True, track_running_stats=True)\n",
       "      )\n",
       "    )\n",
       "    (1): BasicBlock(\n",
       "      (conv1): Conv2d(128, 128, kernel_size=(3, 3), stride=(1, 1), padding=(1, 1), bias=False)\n",
       "      (bn1): BatchNorm2d(128, eps=1e-05, momentum=0.1, affine=True, track_running_stats=True)\n",
       "      (relu): ReLU(inplace=True)\n",
       "      (conv2): Conv2d(128, 128, kernel_size=(3, 3), stride=(1, 1), padding=(1, 1), bias=False)\n",
       "      (bn2): BatchNorm2d(128, eps=1e-05, momentum=0.1, affine=True, track_running_stats=True)\n",
       "    )\n",
       "  )\n",
       "  (layer3): Sequential(\n",
       "    (0): BasicBlock(\n",
       "      (conv1): Conv2d(128, 256, kernel_size=(3, 3), stride=(2, 2), padding=(1, 1), bias=False)\n",
       "      (bn1): BatchNorm2d(256, eps=1e-05, momentum=0.1, affine=True, track_running_stats=True)\n",
       "      (relu): ReLU(inplace=True)\n",
       "      (conv2): Conv2d(256, 256, kernel_size=(3, 3), stride=(1, 1), padding=(1, 1), bias=False)\n",
       "      (bn2): BatchNorm2d(256, eps=1e-05, momentum=0.1, affine=True, track_running_stats=True)\n",
       "      (downsample): Sequential(\n",
       "        (0): Conv2d(128, 256, kernel_size=(1, 1), stride=(2, 2), bias=False)\n",
       "        (1): BatchNorm2d(256, eps=1e-05, momentum=0.1, affine=True, track_running_stats=True)\n",
       "      )\n",
       "    )\n",
       "    (1): BasicBlock(\n",
       "      (conv1): Conv2d(256, 256, kernel_size=(3, 3), stride=(1, 1), padding=(1, 1), bias=False)\n",
       "      (bn1): BatchNorm2d(256, eps=1e-05, momentum=0.1, affine=True, track_running_stats=True)\n",
       "      (relu): ReLU(inplace=True)\n",
       "      (conv2): Conv2d(256, 256, kernel_size=(3, 3), stride=(1, 1), padding=(1, 1), bias=False)\n",
       "      (bn2): BatchNorm2d(256, eps=1e-05, momentum=0.1, affine=True, track_running_stats=True)\n",
       "    )\n",
       "  )\n",
       "  (layer4): Sequential(\n",
       "    (0): BasicBlock(\n",
       "      (conv1): Conv2d(256, 512, kernel_size=(3, 3), stride=(2, 2), padding=(1, 1), bias=False)\n",
       "      (bn1): BatchNorm2d(512, eps=1e-05, momentum=0.1, affine=True, track_running_stats=True)\n",
       "      (relu): ReLU(inplace=True)\n",
       "      (conv2): Conv2d(512, 512, kernel_size=(3, 3), stride=(1, 1), padding=(1, 1), bias=False)\n",
       "      (bn2): BatchNorm2d(512, eps=1e-05, momentum=0.1, affine=True, track_running_stats=True)\n",
       "      (downsample): Sequential(\n",
       "        (0): Conv2d(256, 512, kernel_size=(1, 1), stride=(2, 2), bias=False)\n",
       "        (1): BatchNorm2d(512, eps=1e-05, momentum=0.1, affine=True, track_running_stats=True)\n",
       "      )\n",
       "    )\n",
       "    (1): BasicBlock(\n",
       "      (conv1): Conv2d(512, 512, kernel_size=(3, 3), stride=(1, 1), padding=(1, 1), bias=False)\n",
       "      (bn1): BatchNorm2d(512, eps=1e-05, momentum=0.1, affine=True, track_running_stats=True)\n",
       "      (relu): ReLU(inplace=True)\n",
       "      (conv2): Conv2d(512, 512, kernel_size=(3, 3), stride=(1, 1), padding=(1, 1), bias=False)\n",
       "      (bn2): BatchNorm2d(512, eps=1e-05, momentum=0.1, affine=True, track_running_stats=True)\n",
       "    )\n",
       "  )\n",
       "  (avgpool): AdaptiveAvgPool2d(output_size=(1, 1))\n",
       "  (fc): Linear(in_features=512, out_features=96, bias=True)\n",
       ")"
      ]
     },
     "execution_count": 3,
     "metadata": {},
     "output_type": "execute_result"
    }
   ],
   "source": [
    "# Create the ResNet18 model\n",
    "NUM_CLASSES = 96  \n",
    "GRAYSCALE = True \n",
    "resnet18_model = ResNet(block=BasicBlock, layers=[2,2,2,2], num_classes=NUM_CLASSES, grayscale=GRAYSCALE)\n",
    "\n",
    "resnet18_model.to(device)"
   ]
  },
  {
   "cell_type": "code",
   "execution_count": 4,
   "metadata": {},
   "outputs": [
    {
     "name": "stdout",
     "output_type": "stream",
     "text": [
      "Counter({0: 50000, 51: 4886, 26: 4856, 54: 4848, 12: 4834, 58: 4833, 90: 4831, 31: 4827, 32: 4826, 62: 4825, 83: 4825, 60: 4823, 64: 4819, 56: 4819, 77: 4818, 79: 4816, 88: 4810, 80: 4806, 65: 4806, 92: 4804, 85: 4802, 20: 4800, 55: 4798, 93: 4795, 71: 4791, 45: 4789, 36: 4785, 22: 4783, 9: 4783, 34: 4782, 1: 4780, 5: 4779, 37: 4778, 33: 4777, 72: 4777, 70: 4775, 29: 4772, 40: 4770, 23: 4769, 35: 4769, 15: 4765, 69: 4764, 49: 4761, 8: 4759, 39: 4755, 73: 4746, 7: 4745, 59: 4741, 50: 4740, 4: 4740, 66: 4737, 87: 4735, 76: 4734, 44: 4731, 86: 4730, 74: 4727, 57: 4726, 28: 4724, 61: 4722, 82: 4719, 30: 4717, 21: 4714, 13: 4714, 89: 4713, 14: 4712, 10: 4699, 2: 4696, 18: 4695, 38: 4694, 81: 4693, 68: 4690, 91: 4690, 84: 4688, 3: 4688, 95: 4688, 53: 4687, 17: 4683, 16: 4682, 24: 4678, 75: 4677, 6: 4673, 46: 4665, 63: 4661, 27: 4642, 19: 4639, 43: 4631, 78: 4625, 11: 4624, 47: 4621, 41: 4619, 42: 4604, 67: 4603, 25: 4586, 48: 4584, 52: 4582, 94: 4576})\n"
     ]
    }
   ],
   "source": [
    "# Read the CSV file with specified data types\n",
    "data = pd.read_csv(f\"../archive/ascii_character_classification_{height}_x_{width}.csv\", header=0)\n",
    "\n",
    "label_counts = Counter(data.iloc[:, 0])\n",
    "print(label_counts)"
   ]
  },
  {
   "cell_type": "code",
   "execution_count": 5,
   "metadata": {},
   "outputs": [],
   "source": [
    "X = data.iloc[:, 1:].astype(\"float64\")   # Features are all columns except the first one\n",
    "y = data.iloc[:, 0].astype(\"float64\")     # Labels are the first column\n",
    "# Initialize the oversampler\n",
    "\n",
    "\n",
    "# Split the data into train and test sets\n",
    "X_train, X_test, y_train, y_test = train_test_split(X, y, test_size=0.2, random_state=42)\n",
    "X_train.reset_index(drop=True, inplace=True)\n",
    "y_train.reset_index(drop=True, inplace=True)\n",
    "# Optionally, if you want to convert them back to pandas DataFrames:\n",
    "train_data = pd.concat([y_train, X_train], axis=1)\n",
    "test_data = pd.concat([y_test, X_test], axis=1)"
   ]
  },
  {
   "cell_type": "code",
   "execution_count": 6,
   "metadata": {},
   "outputs": [
    {
     "name": "stdout",
     "output_type": "stream",
     "text": [
      "\n",
      "95.0\n",
      "49\n",
      "char value:  \"\n"
     ]
    },
    {
     "data": {
      "image/png": "[encoded data removed]",
      "text/plain": [
       "<Figure size 640x480 with 1 Axes>"
      ]
     },
     "metadata": {},
     "output_type": "display_data"
    }
   ],
   "source": [
    "import matplotlib.pyplot as plt\n",
    "\n",
    "# Find unique values in y_train\n",
    "unique_values = y_train.unique()\n",
    "unique_values = sorted(unique_values)\n",
    "\n",
    "# Print unique values\n",
    "print()\n",
    "\n",
    "# Find the maximum value in y_train\n",
    "max_value = y_train.max()\n",
    "\n",
    "# Print the maximum value\n",
    "print(max_value)\n",
    "\n",
    "# Find the index where the third unique value occurs in y_train\n",
    "value_to_find = unique_values[2]\n",
    "idx = (y_train == value_to_find).idxmax()\n",
    "\n",
    "# Print the index\n",
    "print(idx)\n",
    "\n",
    "# Convert the value to its corresponding character\n",
    "char_value = chr(int(value_to_find)+32)\n",
    "print(\"char value: \",char_value)\n",
    "\n",
    "# Get the flattened array corresponding to the found index\n",
    "flattened_array = X_train.iloc[idx].to_numpy()\n",
    "\n",
    "# Reshape the array to its original dimensions\n",
    "reshaped_array = flattened_array.reshape((height,width))\n",
    "\n",
    "# Display the image using Matplotlib\n",
    "plt.imshow(reshaped_array, cmap='gray')  \n",
    "plt.title('Unflattened Image')\n",
    "plt.axis('off')  \n",
    "plt.show()\n"
   ]
  },
  {
   "cell_type": "code",
   "execution_count": 7,
   "metadata": {},
   "outputs": [],
   "source": [
    "train_labels = train_data.iloc[:, 0].values    \n",
    "train_images = train_data.iloc[:, 1:].values \n",
    "\n",
    "test_labels = test_data.iloc[:, 0].values \n",
    "test_images = test_data.iloc[:, 1:].values \n",
    "\n",
    "# Convert to PyTorch tensors\n",
    "train_images_tensor = torch.tensor(train_images, dtype=torch.float32)\n",
    "train_labels_tensor = torch.tensor(train_labels, dtype=torch.long)\n",
    "\n",
    "test_images_tensor = torch.tensor(test_images, dtype=torch.float32)\n",
    "test_labels_tensor = torch.tensor(test_labels, dtype=torch.long)"
   ]
  },
  {
   "cell_type": "code",
   "execution_count": 8,
   "metadata": {},
   "outputs": [],
   "source": [
    "inc = height\n",
    "train_images_tensor = train_images_tensor.view(-1, 1, inc, inc)\n",
    "test_images_tensor = test_images_tensor.view(-1, 1, inc, inc)\n",
    "train_dataset = TensorDataset(train_images_tensor, train_labels_tensor)\n",
    "test_dataset = TensorDataset(test_images_tensor, test_labels_tensor)\n",
    "\n",
    "batch_size = 1024\n",
    "train_loader = DataLoader(dataset=train_dataset, batch_size=batch_size, shuffle=True)\n",
    "test_loader = DataLoader(dataset=test_dataset, batch_size=batch_size, shuffle=False)\n",
    "\n",
    "# Move the data to the GPU\n",
    "train_images_tensor, train_labels_tensor = train_images_tensor.to(device), train_labels_tensor.to(device)\n",
    "test_images_tensor, test_labels_tensor = test_images_tensor.to(device), test_labels_tensor.to(device)"
   ]
  },
  {
   "cell_type": "code",
   "execution_count": 9,
   "metadata": {},
   "outputs": [
    {
     "name": "stdout",
     "output_type": "stream",
     "text": [
      "Epoch [1/10], Step [100/391], Loss: 0.0823, Learning Rate: 0.001000\n",
      "Epoch [1/10], Step [200/391], Loss: 0.0941, Learning Rate: 0.001000\n",
      "Epoch [1/10], Step [300/391], Loss: 0.1019, Learning Rate: 0.001000\n",
      "Epoch [1/10], Training Accuracy: 96.6965\n",
      "Epoch [2/10], Step [100/391], Loss: 0.0776, Learning Rate: 0.001000\n",
      "Epoch [2/10], Step [200/391], Loss: 0.1044, Learning Rate: 0.001000\n",
      "Epoch [2/10], Step [300/391], Loss: 0.0800, Learning Rate: 0.001000\n",
      "Epoch [2/10], Training Accuracy: 96.8328\n",
      "Epoch [3/10], Step [100/391], Loss: 0.0890, Learning Rate: 0.001000\n",
      "Epoch [3/10], Step [200/391], Loss: 0.0766, Learning Rate: 0.001000\n",
      "Epoch [3/10], Step [300/391], Loss: 0.0833, Learning Rate: 0.001000\n",
      "Epoch [3/10], Training Accuracy: 96.8017\n",
      "Epoch [4/10], Step [100/391], Loss: 0.0880, Learning Rate: 0.001000\n",
      "Epoch [4/10], Step [200/391], Loss: 0.0861, Learning Rate: 0.001000\n",
      "Epoch [4/10], Step [300/391], Loss: 0.0833, Learning Rate: 0.001000\n",
      "Epoch [4/10], Training Accuracy: 96.8697\n",
      "Epoch [5/10], Step [100/391], Loss: 0.0816, Learning Rate: 0.001000\n",
      "Epoch [5/10], Step [200/391], Loss: 0.0766, Learning Rate: 0.001000\n",
      "Epoch [5/10], Step [300/391], Loss: 0.1010, Learning Rate: 0.001000\n",
      "Epoch [5/10], Training Accuracy: 96.7618\n",
      "Epoch [6/10], Step [100/391], Loss: 0.0913, Learning Rate: 0.000500\n",
      "Epoch [6/10], Step [200/391], Loss: 0.0806, Learning Rate: 0.000500\n",
      "Epoch [6/10], Step [300/391], Loss: 0.0866, Learning Rate: 0.000500\n",
      "Epoch [6/10], Training Accuracy: 96.9233\n",
      "Epoch [7/10], Step [100/391], Loss: 0.0821, Learning Rate: 0.000500\n",
      "Epoch [7/10], Step [200/391], Loss: 0.0769, Learning Rate: 0.000500\n",
      "Epoch [7/10], Step [300/391], Loss: 0.0977, Learning Rate: 0.000500\n",
      "Epoch [7/10], Training Accuracy: 96.8982\n",
      "Epoch [8/10], Step [100/391], Loss: 0.0901, Learning Rate: 0.000500\n",
      "Epoch [8/10], Step [200/391], Loss: 0.0945, Learning Rate: 0.000500\n",
      "Epoch [8/10], Step [300/391], Loss: 0.0728, Learning Rate: 0.000500\n",
      "Epoch [8/10], Training Accuracy: 96.9190\n",
      "Epoch [9/10], Step [100/391], Loss: 0.0558, Learning Rate: 0.000500\n",
      "Epoch [9/10], Step [200/391], Loss: 0.0856, Learning Rate: 0.000500\n",
      "Epoch [9/10], Step [300/391], Loss: 0.0884, Learning Rate: 0.000500\n",
      "Epoch [9/10], Training Accuracy: 96.8312\n",
      "Epoch [10/10], Step [100/391], Loss: 0.0841, Learning Rate: 0.000500\n",
      "Epoch [10/10], Step [200/391], Loss: 0.0862, Learning Rate: 0.000500\n",
      "Epoch [10/10], Step [300/391], Loss: 0.0988, Learning Rate: 0.000500\n",
      "Epoch [10/10], Training Accuracy: 96.9237\n",
      "Training finished.\n"
     ]
    }
   ],
   "source": [
    "\n",
    "\n",
    "criterion = nn.CrossEntropyLoss()\n",
    "optimizer = optim.Adam(resnet18_model.parameters(),  lr=1e-3)\n",
    "scheduler = StepLR(optimizer, step_size=5, gamma=0.5)  # Adjust step_size and gamma as needed\n",
    "# max_grad_norm = 1.0\n",
    "\n",
    "# Compute Train Accuracy\n",
    "def compute_accuracy(model, data_loader, device):\n",
    "    correct_pred, num_examples = 0, 0\n",
    "    for _, (features, targets) in enumerate(data_loader):\n",
    "        features = features.to(device)\n",
    "        targets = targets.to(device)\n",
    "        _, class_probabilities = model(features)\n",
    "        _, predicted_labels = torch.max(class_probabilities, 1)\n",
    "        num_examples += targets.size(0)\n",
    "        correct_pred += (predicted_labels == targets).sum().item()\n",
    "    return correct_pred / num_examples * 100\n",
    "\n",
    "# While training run nvidia-smi in the terminal to check gpu tasks \n",
    "train_accuracies = []\n",
    "train_losses = []\n",
    "\n",
    "# Training the model\n",
    "num_epochs = 10\n",
    "for epoch in range(num_epochs):\n",
    "    total_correct = 0\n",
    "    total_samples = 0\n",
    "    epoch_losses = []\n",
    "\n",
    "    for i, (images, labels) in enumerate(train_loader):\n",
    "        optimizer.zero_grad()\n",
    "\n",
    "        # Move data to the GPU\n",
    "        images, labels = images.to(device), labels.to(device)\n",
    "        outputs, _ = resnet18_model(images)\n",
    "        # outputs += 32\n",
    "        loss = criterion(outputs, labels)\n",
    "        loss.backward()\n",
    "        \n",
    "        # clip_grad_norm_(resnet18_model.parameters(), max_grad_norm)\n",
    "        optimizer.step()\n",
    "\n",
    "        train_losses.append(loss.item())\n",
    "\n",
    "        # Calculate training accuracy\n",
    "        current_lr = optimizer.param_groups[0]['lr']\n",
    "        if (i+1) % 100 == 0:\n",
    "            print(f'Epoch [{epoch+1}/{num_epochs}], Step [{i+1}/{len(train_loader)}], Loss: {loss.item():.4f}, Learning Rate: {current_lr:.6f}')\n",
    "    scheduler.step()\n",
    "    \n",
    "    training_accuracy = compute_accuracy(resnet18_model, train_loader, device)\n",
    "    train_accuracies.append(training_accuracy)\n",
    "\n",
    "    # epoch_loss_avg = sum(epoch_losses) / len(epoch_losses)\n",
    "    \n",
    "    # train_losses.append(epoch_losses)\n",
    "    print(f'Epoch [{epoch+1}/{num_epochs}], Training Accuracy: {training_accuracy:.4f}')\n",
    "    \n",
    "print('Training finished.')"
   ]
  },
  {
   "cell_type": "code",
   "execution_count": 10,
   "metadata": {},
   "outputs": [
    {
     "data": {
      "image/png": "[encoded data removed]",
      "text/plain": [
       "<Figure size 1200x400 with 2 Axes>"
      ]
     },
     "metadata": {},
     "output_type": "display_data"
    }
   ],
   "source": [
    "# Plotting training accuracies and losses\n",
    "plt.figure(figsize=(12, 4))\n",
    "plt.subplot(1, 2, 1)\n",
    "plt.plot(train_accuracies, label='Training Accuracy')\n",
    "plt.title('Training Accuracy Over Epochs')\n",
    "plt.xlabel('Epoch')\n",
    "plt.ylabel('Accuracy (%)')\n",
    "plt.legend()\n",
    "\n",
    "plt.subplot(1, 2, 2)\n",
    "plt.plot(train_losses, label='Training Loss')\n",
    "plt.title('Training Loss Over Epochs')\n",
    "plt.xlabel('Epoch')\n",
    "plt.ylabel('Loss')\n",
    "plt.legend()\n",
    "\n",
    "plt.tight_layout()\n",
    "plt.show()"
   ]
  },
  {
   "cell_type": "code",
   "execution_count": 11,
   "metadata": {},
   "outputs": [],
   "source": [
    "torch.save(resnet18_model.state_dict(), f'../artifacts/resnet18_ascii_classifier_{height}_x_{width}.pth')"
   ]
  },
  {
   "cell_type": "code",
   "execution_count": 12,
   "metadata": {},
   "outputs": [
    {
     "name": "stdout",
     "output_type": "stream",
     "text": [
      "Test Accuracy: 96.8130%\n"
     ]
    }
   ],
   "source": [
    "# Reshape the images to [batch_size, 1, 10, 10]\n",
    "test_images_tensor = test_images_tensor.view(-1, 1, height, width)\n",
    "\n",
    "# Move the test data to the GPU\n",
    "test_images_tensor, test_labels_tensor = test_images_tensor.to(device), test_labels_tensor.to(device)\n",
    "\n",
    "# Create TensorDataset and DataLoader for the test data\n",
    "test_dataset = TensorDataset(test_images_tensor, test_labels_tensor)\n",
    "test_loader = DataLoader(dataset=test_dataset, batch_size=batch_size, shuffle=False)\n",
    "\n",
    "# Evaluate the model on the test data\n",
    "resnet18_model.eval()  # Set the model to evaluation mode\n",
    "\n",
    "correct = 0\n",
    "total = 0\n",
    "\n",
    "with torch.no_grad():\n",
    "    for images, labels in test_loader:\n",
    "        images, labels = images.to(device), labels.to(device)\n",
    "        # print(images.shape)\n",
    "        # print(images.dtype)\n",
    "        outputs, _ = resnet18_model(images)\n",
    "        probabilities = F.softmax(outputs, dim=1)\n",
    "        \n",
    "        _, predicted = torch.max(probabilities, 1)\n",
    "\n",
    "        total += labels.size(0)\n",
    "        correct += (predicted == labels).sum().item()\n",
    "\n",
    "accuracy = correct / total\n",
    "print(f'Test Accuracy: {accuracy * 100:.4f}%')"
   ]
  }
 ],
 "metadata": {
  "kernelspec": {
   "display_name": "Python 3",
   "language": "python",
   "name": "python3"
  },
  "language_info": {
   "codemirror_mode": {
    "name": "ipython",
    "version": 3
   },
   "file_extension": ".py",
   "mimetype": "text/x-python",
   "name": "python",
   "nbconvert_exporter": "python",
   "pygments_lexer": "ipython3",
   "version": "3.11.9"
  }
 },
 "nbformat": 4,
 "nbformat_minor": 2
}

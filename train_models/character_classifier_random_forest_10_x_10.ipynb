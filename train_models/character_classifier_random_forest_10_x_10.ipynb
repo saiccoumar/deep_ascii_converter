{
 "cells": [
  {
   "cell_type": "code",
   "execution_count": 1,
   "metadata": {},
   "outputs": [],
   "source": [
    "import numpy as np\n",
    "import pandas as pd\n",
    "from skimage.feature import hog\n",
    "from sklearn.ensemble import RandomForestClassifier\n",
    "from sklearn.model_selection import train_test_split\n",
    "from sklearn.metrics import accuracy_score, f1_score, recall_score\n",
    "import joblib\n",
    "from collections import Counter\n",
    "height, width = 10, 10"
   ]
  },
  {
   "cell_type": "code",
   "execution_count": 2,
   "metadata": {},
   "outputs": [
    {
     "name": "stdout",
     "output_type": "stream",
     "text": [
      "Counter({0: 2568, 62: 282, 83: 269, 86: 266, 47: 264, 20: 261, 50: 260, 92: 257, 1: 257, 60: 255, 14: 255, 59: 255, 29: 254, 34: 253, 49: 253, 8: 252, 72: 252, 55: 252, 79: 251, 12: 248, 87: 248, 32: 248, 70: 247, 23: 247, 24: 246, 56: 245, 4: 245, 69: 244, 52: 244, 95: 244, 63: 244, 80: 243, 76: 242, 37: 242, 21: 241, 65: 240, 18: 240, 93: 240, 90: 240, 35: 240, 58: 239, 22: 238, 9: 238, 16: 238, 54: 238, 64: 238, 45: 238, 40: 236, 11: 236, 6: 236, 51: 235, 26: 235, 15: 235, 17: 235, 74: 234, 44: 234, 66: 233, 71: 232, 31: 231, 33: 231, 39: 231, 36: 231, 38: 230, 68: 230, 13: 229, 42: 228, 77: 228, 57: 228, 41: 227, 84: 227, 82: 226, 3: 226, 75: 225, 7: 225, 10: 224, 91: 224, 67: 224, 48: 223, 88: 223, 89: 221, 19: 221, 85: 220, 53: 220, 43: 220, 61: 219, 28: 218, 73: 218, 78: 215, 46: 214, 27: 214, 81: 212, 25: 211, 94: 210, 5: 209, 2: 206, 30: 199})\n"
     ]
    }
   ],
   "source": [
    "data = pd.read_csv(f\"../archive/ascii_character_classification_{height}_x_{width}.csv\", header=0).sample(frac=.05)\n",
    "label_counts = Counter(data.iloc[:, 0])\n",
    "print(label_counts)"
   ]
  },
  {
   "cell_type": "code",
   "execution_count": 3,
   "metadata": {},
   "outputs": [],
   "source": [
    "X = data.iloc[:, 1:].astype(\"float64\")\n",
    "y = data.iloc[:, 0].astype(\"float64\")\n",
    "\n",
    "X_train, X_test, y_train, y_test = train_test_split(X, y, test_size=0.2, random_state=42)"
   ]
  },
  {
   "cell_type": "code",
   "execution_count": 4,
   "metadata": {},
   "outputs": [
    {
     "data": {
      "text/plain": [
       "['../artifacts/random_forest_model_10_x_10.pkl']"
      ]
     },
     "execution_count": 4,
     "metadata": {},
     "output_type": "execute_result"
    }
   ],
   "source": [
    "clf = RandomForestClassifier(n_estimators=100, random_state=42)\n",
    "clf.fit(X_train, y_train)\n",
    "joblib.dump(clf, '../artifacts/random_forest_model_10_x_10.pkl')"
   ]
  },
  {
   "cell_type": "code",
   "execution_count": 5,
   "metadata": {},
   "outputs": [
    {
     "name": "stdout",
     "output_type": "stream",
     "text": [
      "test Shape: (5000, 100)\n",
      "Train Accuracy: 97.8200%\n",
      "Test Accuracy: 92.5000%\n",
      "F1 Score: 91.7636%\n",
      "Recall: 92.5000%\n"
     ]
    }
   ],
   "source": [
    "y_pred = clf.predict(X_train)\n",
    "train_accuracy = accuracy_score(y_train, y_pred)\n",
    "y_pred = clf.predict(X_test)\n",
    "print(\"test Shape:\", X_test.shape)\n",
    "\n",
    "test_accuracy = accuracy_score(y_test, y_pred)\n",
    "f1 = f1_score(y_test, y_pred, average='weighted')\n",
    "recall = recall_score(y_test, y_pred, average='weighted')\n",
    "\n",
    "print(f\"Train Accuracy: {train_accuracy*100:.4f}%\")\n",
    "print(f\"Test Accuracy: {test_accuracy*100:.4f}%\")\n",
    "print(f\"F1 Score: {f1*100:.4f}%\")\n",
    "print(f\"Recall: {recall*100:.4f}%\")"
   ]
  },
  {
   "cell_type": "code",
   "execution_count": 6,
   "metadata": {},
   "outputs": [],
   "source": [
    "def extract_hog_features(images):\n",
    "    hog_features = []\n",
    "    for image in images:\n",
    "        image_reshaped = image.reshape((height, width))\n",
    "        features = hog(image_reshaped, pixels_per_cell=(2, 2), cells_per_block=(1, 1), feature_vector=True)\n",
    "        hog_features.append(features)\n",
    "    return np.array(hog_features)\n",
    "\n",
    "X_hog = extract_hog_features(np.array(X))\n",
    "X_train, X_test, y_train, y_test = train_test_split(X_hog, y, test_size=0.2, random_state=42)"
   ]
  },
  {
   "cell_type": "code",
   "execution_count": 7,
   "metadata": {},
   "outputs": [
    {
     "data": {
      "text/plain": [
       "['../artifacts/random_forest_model_hog_10_x_10.pkl']"
      ]
     },
     "execution_count": 7,
     "metadata": {},
     "output_type": "execute_result"
    }
   ],
   "source": [
    "clf = RandomForestClassifier(n_estimators=100, random_state=42)\n",
    "clf.fit(X_train, y_train)\n",
    "joblib.dump(clf, '../artifacts/random_forest_model_hog_10_x_10.pkl')"
   ]
  },
  {
   "cell_type": "code",
   "execution_count": 8,
   "metadata": {},
   "outputs": [
    {
     "name": "stdout",
     "output_type": "stream",
     "text": [
      "test Shape: (5000, 225)\n",
      "Train Accuracy: 97.7800%\n",
      "Test Accuracy: 95.2400%\n",
      "F1 Score: 94.4890%\n",
      "Recall: 95.2400%\n"
     ]
    }
   ],
   "source": [
    "y_pred = clf.predict(X_train)\n",
    "train_accuracy = accuracy_score(y_train, y_pred)\n",
    "y_pred = clf.predict(X_test)\n",
    "print(\"test Shape:\", X_test.shape)\n",
    "\n",
    "test_accuracy = accuracy_score(y_test, y_pred)\n",
    "f1 = f1_score(y_test, y_pred, average='weighted')\n",
    "recall = recall_score(y_test, y_pred, average='weighted')\n",
    "\n",
    "print(f\"Train Accuracy: {train_accuracy*100:.4f}%\")\n",
    "print(f\"Test Accuracy: {test_accuracy*100:.4f}%\")\n",
    "print(f\"F1 Score: {f1*100:.4f}%\")\n",
    "print(f\"Recall: {recall*100:.4f}%\")"
   ]
  },
  {
   "cell_type": "code",
   "execution_count": 9,
   "metadata": {},
   "outputs": [],
   "source": [
    "import cv2\n",
    "\n",
    "def extract_sift_features(images):\n",
    "    sift = cv2.SIFT_create()\n",
    "    sift_features = []\n",
    "    \n",
    "    for image in images:\n",
    "        image_reshaped = image.reshape((height, width)).astype(np.uint8)\n",
    "        keypoints, descriptors = sift.detectAndCompute(image_reshaped, None)\n",
    "        \n",
    "        # If no keypoints are found, use a zero array of the same length as a typical descriptor\n",
    "        if descriptors is None:\n",
    "            descriptors = np.zeros((1, sift.descriptorSize()), dtype=np.float32)\n",
    "        \n",
    "        # Flatten descriptors and use them as features\n",
    "        features = descriptors.flatten()\n",
    "        sift_features.append(features)\n",
    "    \n",
    "    return np.array(sift_features)\n",
    "\n",
    "# Extract SIFT features\n",
    "X_sift = extract_sift_features(np.array(X))"
   ]
  },
  {
   "cell_type": "code",
   "execution_count": 10,
   "metadata": {},
   "outputs": [],
   "source": [
    "X_sift = extract_sift_features(np.array(X))\n",
    "\n",
    "# Since the number of features might vary, we need to ensure consistent feature vector size\n",
    "# Here, we'll pad with zeros to the maximum descriptor length found\n",
    "max_len = max(len(f) for f in X_sift)\n",
    "X_sift = np.array([np.pad(f, (0, max_len - len(f)), 'constant') for f in X_sift])\n",
    "\n",
    "# Split the data into train and test sets\n",
    "X_train, X_test, y_train, y_test = train_test_split(X_sift, y, test_size=0.2, random_state=42)"
   ]
  },
  {
   "cell_type": "code",
   "execution_count": 11,
   "metadata": {},
   "outputs": [
    {
     "data": {
      "text/plain": [
       "['../artifacts/random_forest_model_sift_10_x_10.pkl']"
      ]
     },
     "execution_count": 11,
     "metadata": {},
     "output_type": "execute_result"
    }
   ],
   "source": [
    "clf = RandomForestClassifier(n_estimators=100, random_state=42)\n",
    "clf.fit(X_train, y_train)\n",
    "joblib.dump(clf, '../artifacts/random_forest_model_sift_10_x_10.pkl')"
   ]
  },
  {
   "cell_type": "code",
   "execution_count": 12,
   "metadata": {},
   "outputs": [
    {
     "name": "stdout",
     "output_type": "stream",
     "text": [
      "test Shape: (5000, 128)\n",
      "Train Accuracy: 10.1250%\n",
      "Test Accuracy: 10.8600%\n",
      "F1 Score: 2.1277%\n",
      "Recall: 10.8600%\n"
     ]
    }
   ],
   "source": [
    "y_pred = clf.predict(X_train)\n",
    "train_accuracy = accuracy_score(y_train, y_pred)\n",
    "y_pred = clf.predict(X_test)\n",
    "print(\"test Shape:\", X_test.shape)\n",
    "\n",
    "test_accuracy = accuracy_score(y_test, y_pred)\n",
    "f1 = f1_score(y_test, y_pred, average='weighted')\n",
    "recall = recall_score(y_test, y_pred, average='weighted')\n",
    "\n",
    "print(f\"Train Accuracy: {train_accuracy*100:.4f}%\")\n",
    "print(f\"Test Accuracy: {test_accuracy*100:.4f}%\")\n",
    "print(f\"F1 Score: {f1*100:.4f}%\")\n",
    "print(f\"Recall: {recall*100:.4f}%\")"
   ]
  }
 ],
 "metadata": {
  "kernelspec": {
   "display_name": "Python 3",
   "language": "python",
   "name": "python3"
  },
  "language_info": {
   "codemirror_mode": {
    "name": "ipython",
    "version": 3
   },
   "file_extension": ".py",
   "mimetype": "text/x-python",
   "name": "python",
   "nbconvert_exporter": "python",
   "pygments_lexer": "ipython3",
   "version": "3.12.7"
  }
 },
 "nbformat": 4,
 "nbformat_minor": 2
}

{
 "cells": [
  {
   "cell_type": "code",
   "execution_count": 1,
   "metadata": {},
   "outputs": [],
   "source": [
    "import cupy as cp\n",
    "import cudf\n",
    "from cuml.svm import LinearSVC\n",
    "from sklearn.metrics import accuracy_score, f1_score, recall_score\n",
    "import joblib\n",
    "import numpy as np\n",
    "import pandas as pd\n",
    "from skimage.feature import hog\n",
    "from sklearn.model_selection import train_test_split\n",
    "# import cv2\n",
    "from collections import Counter"
   ]
  },
  {
   "cell_type": "code",
   "execution_count": 10,
   "metadata": {},
   "outputs": [
    {
     "name": "stdout",
     "output_type": "stream",
     "text": [
      "Counter({0: 2576, 70: 268, 28: 264, 23: 263, 13: 263, 72: 263, 84: 261, 92: 261, 18: 258, 14: 257, 48: 257, 34: 257, 15: 254, 19: 253, 6: 253, 46: 252, 78: 252, 45: 250, 11: 249, 59: 249, 26: 249, 10: 248, 31: 248, 44: 248, 27: 247, 69: 246, 33: 244, 86: 244, 20: 244, 36: 243, 32: 243, 3: 243, 76: 243, 2: 241, 60: 240, 74: 240, 73: 240, 83: 239, 43: 239, 82: 239, 81: 239, 17: 239, 57: 238, 63: 238, 5: 238, 80: 237, 50: 237, 95: 237, 22: 236, 64: 236, 7: 236, 61: 236, 1: 235, 30: 234, 88: 233, 55: 233, 9: 233, 29: 233, 94: 232, 79: 232, 68: 232, 25: 232, 38: 232, 40: 231, 89: 229, 39: 229, 42: 228, 75: 228, 8: 228, 16: 227, 77: 227, 65: 227, 67: 227, 47: 225, 54: 224, 90: 223, 4: 223, 37: 223, 91: 222, 41: 222, 21: 221, 56: 221, 12: 221, 66: 221, 87: 220, 93: 220, 35: 219, 53: 218, 58: 216, 24: 213, 71: 212, 52: 208, 85: 206, 62: 204, 51: 203, 49: 198})\n"
     ]
    }
   ],
   "source": [
    "# Load and sample the dataset\n",
    "data = pd.read_csv(\"../archive/ascii_character_classification.csv\", header=0).sample(frac=0.05)\n",
    "\n",
    "label_counts = Counter(data.iloc[:, 0])\n",
    "print(label_counts)"
   ]
  },
  {
   "cell_type": "code",
   "execution_count": 11,
   "metadata": {},
   "outputs": [],
   "source": [
    "# Separate features and labels\n",
    "X = data.iloc[:, 1:].astype(\"float64\")  # Features are all columns except the first one\n",
    "y = data.iloc[:, 0].astype(\"float64\")     # Labels are the first column, converted to integer type\n",
    "\n",
    "# Split the data into train and test sets\n",
    "X_train, X_test, y_train, y_test = train_test_split(X, y, test_size=0.2, random_state=42)\n",
    "X_train.reset_index(drop=True, inplace=True)\n",
    "y_train.reset_index(drop=True, inplace=True)\n",
    "\n",
    "# Convert Pandas DataFrames and Series to CuPy arrays\n",
    "X_train_cupy = cp.asarray(X_train, dtype=cp.float64)\n",
    "X_test_cupy = cp.asarray(X_test, dtype=cp.float64)\n",
    "y_train_cupy = cp.asarray(y_train, dtype=cp.float64)\n",
    "y_test_cupy = cp.asarray(y_test, dtype=cp.float64)"
   ]
  },
  {
   "cell_type": "code",
   "execution_count": 14,
   "metadata": {},
   "outputs": [
    {
     "data": {
      "text/plain": [
       "['../artifacts/svm_model_gpu.pkl']"
      ]
     },
     "execution_count": 14,
     "metadata": {},
     "output_type": "execute_result"
    }
   ],
   "source": [
    "# Train and save the SVM model\n",
    "default_parameters = {\n",
    "    'penalty': 'l2',\n",
    "    'loss': 'squared_hinge',\n",
    "    'fit_intercept': True,\n",
    "    'penalized_intercept': False,\n",
    "    'max_iter': 1000,\n",
    "    'linesearch_max_iter': 100,\n",
    "    'lbfgs_memory': 5,\n",
    "    'class_weight': None,\n",
    "    'verbose': False,\n",
    "    'C': 1.0,\n",
    "    'grad_tol': 0.0001,\n",
    "    'change_tol': 1e-05,\n",
    "    'tol': None,\n",
    "    'probability': False\n",
    "}\n",
    "\n",
    "# Create LinearSVC with default parameters\n",
    "clf = LinearSVC(**default_parameters)\n",
    "clf.fit(X_train_cupy, y_train_cupy)\n",
    "joblib.dump(clf, '../artifacts/svm_model_gpu.pkl')"
   ]
  },
  {
   "cell_type": "code",
   "execution_count": 15,
   "metadata": {},
   "outputs": [
    {
     "name": "stdout",
     "output_type": "stream",
     "text": [
      "<class 'numpy.ndarray'>\n",
      "Accuracy: 29.4200%\n",
      "F1 Score: 26.0238%\n",
      "Recall: 29.4200%\n"
     ]
    }
   ],
   "source": [
    "# Predict and evaluate\n",
    "y_pred = cp.asnumpy(clf.predict(X_test_cupy))\n",
    "print(type(y_pred))\n",
    "accuracy = accuracy_score(y_test, y_pred)\n",
    "f1 = f1_score(y_test, y_pred, average='weighted')\n",
    "recall = recall_score(y_test, y_pred, average='weighted')\n",
    "\n",
    "print(f\"Accuracy: {accuracy*100:.4f}%\")\n",
    "print(f\"F1 Score: {f1*100:.4f}%\")\n",
    "print(f\"Recall: {recall*100:.4f}%\")"
   ]
  },
  {
   "cell_type": "code",
   "execution_count": 6,
   "metadata": {},
   "outputs": [],
   "source": [
    "# HOG feature extraction\n",
    "def extract_hog_features(images):\n",
    "    hog_features = []\n",
    "    for image in images:\n",
    "        image_reshaped = image.reshape((10, 10))\n",
    "        features = hog(image_reshaped, pixels_per_cell=(2, 2), cells_per_block=(1, 1), feature_vector=True)\n",
    "        hog_features.append(features)\n",
    "    return np.array(hog_features)\n",
    "\n",
    "X_hog = extract_hog_features(np.array(X))"
   ]
  },
  {
   "cell_type": "code",
   "execution_count": 7,
   "metadata": {},
   "outputs": [],
   "source": [
    "# Split the data into train and test sets\n",
    "X_train, X_test, y_train, y_test = train_test_split(X_hog, y, test_size=0.2, random_state=42)\n",
    "# X_train.reset_index(drop=True, inplace=True)\n",
    "# y_train.reset_index(drop=True, inplace=True)\n",
    "\n",
    "# Convert Pandas DataFrames and Series to CuPy arrays\n",
    "X_train_cupy = cp.asarray(X_train, dtype=cp.float64)\n",
    "X_test_cupy = cp.asarray(X_test, dtype=cp.float64)\n",
    "y_train_cupy = cp.asarray(y_train, dtype=cp.float64)\n",
    "y_test_cupy = cp.asarray(y_test, dtype=cp.float64)\n"
   ]
  },
  {
   "cell_type": "code",
   "execution_count": 8,
   "metadata": {},
   "outputs": [
    {
     "data": {
      "text/plain": [
       "['../artifacts/svm_hog_model_gpu.pkl']"
      ]
     },
     "execution_count": 8,
     "metadata": {},
     "output_type": "execute_result"
    }
   ],
   "source": [
    "# Train and save the SVM model\n",
    "default_parameters = {\n",
    "    'penalty': 'l2',\n",
    "    'loss': 'squared_hinge',\n",
    "    'fit_intercept': True,\n",
    "    'penalized_intercept': False,\n",
    "    'max_iter': 1000,\n",
    "    'linesearch_max_iter': 100,\n",
    "    'lbfgs_memory': 5,\n",
    "    'class_weight': None,\n",
    "    'verbose': False,\n",
    "    'C': 1.0,\n",
    "    'grad_tol': 0.0001,\n",
    "    'change_tol': 1e-05,\n",
    "    'tol': None,\n",
    "    'probability': False\n",
    "}\n",
    "\n",
    "# Create LinearSVC with default parameters\n",
    "clf = LinearSVC(**default_parameters)\n",
    "clf.fit(X_train_cupy, y_train_cupy)\n",
    "joblib.dump(clf, '../artifacts/svm_hog_model_gpu.pkl')"
   ]
  },
  {
   "cell_type": "code",
   "execution_count": 9,
   "metadata": {},
   "outputs": [
    {
     "name": "stdout",
     "output_type": "stream",
     "text": [
      "<class 'numpy.ndarray'>\n",
      "Accuracy: 82.1000%\n",
      "F1 Score: 81.1978%\n",
      "Recall: 82.1000%\n"
     ]
    }
   ],
   "source": [
    "# Predict and evaluate\n",
    "y_pred = cp.asnumpy(clf.predict(X_test_cupy))\n",
    "print(type(y_pred))\n",
    "accuracy = accuracy_score(y_test, y_pred)\n",
    "f1 = f1_score(y_test, y_pred, average='weighted')\n",
    "recall = recall_score(y_test, y_pred, average='weighted')\n",
    "\n",
    "print(f\"Accuracy: {accuracy*100:.4f}%\")\n",
    "print(f\"F1 Score: {f1*100:.4f}%\")\n",
    "print(f\"Recall: {recall*100:.4f}%\")"
   ]
  }
 ],
 "metadata": {
  "kernelspec": {
   "display_name": "Python 3",
   "language": "python",
   "name": "python3"
  },
  "language_info": {
   "codemirror_mode": {
    "name": "ipython",
    "version": 3
   },
   "file_extension": ".py",
   "mimetype": "text/x-python",
   "name": "python",
   "nbconvert_exporter": "python",
   "pygments_lexer": "ipython3",
   "version": "3.11.9"
  }
 },
 "nbformat": 4,
 "nbformat_minor": 2
}

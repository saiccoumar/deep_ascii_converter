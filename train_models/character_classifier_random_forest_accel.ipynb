{
 "cells": [
  {
   "cell_type": "code",
   "execution_count": null,
   "metadata": {},
   "outputs": [],
   "source": [
    "import cuml\n",
    "from cuml.ensemble import RandomForestClassifier as cuMLRandomForestClassifier\n",
    "from cuml.metrics import accuracy_score as cuml_accuracy_score, f1_score as cuml_f1_score, recall_score as cuml_recall_score\n",
    "import numpy as np\n",
    "import pandas as pd\n",
    "import cupy as cp\n",
    "from skimage.feature import hog\n",
    "import joblib\n",
    "from collections import Counter\n",
    "import cv2\n",
    "from cuml.model_selection import train_test_split\n",
    "\n",
    "height, width = 10, 10"
   ]
  },
  {
   "cell_type": "code",
   "execution_count": 5,
   "metadata": {},
   "outputs": [
    {
     "name": "stdout",
     "output_type": "stream",
     "text": [
      "Checking whether there is an H2O instance running at http://localhost:54321..... not found.\n",
      "Attempting to start a local H2O server...\n",
      "; Java HotSpot(TM) 64-Bit Server VM (build 22+36-2370, mixed mode, sharing)\n",
      "  Starting server from C:\\Users\\Sai\\AppData\\Local\\Programs\\Python\\Python312\\Lib\\site-packages\\h2o\\backend\\bin\\h2o.jar\n",
      "  Ice root: C:\\Users\\Sai\\AppData\\Local\\Temp\\tmp584dvni3\n",
      "  JVM stdout: C:\\Users\\Sai\\AppData\\Local\\Temp\\tmp584dvni3\\h2o_Sai_started_from_python.out\n",
      "  JVM stderr: C:\\Users\\Sai\\AppData\\Local\\Temp\\tmp584dvni3\\h2o_Sai_started_from_python.err\n",
      "  Server is running at http://127.0.0.1:54321\n",
      "Connecting to H2O server at http://127.0.0.1:54321 ... successful.\n"
     ]
    },
    {
     "data": {
      "text/html": [
       "\n",
       "<style>\n",
       "\n",
       "#h2o-table-1.h2o-container {\n",
       "  overflow-x: auto;\n",
       "}\n",
       "#h2o-table-1 .h2o-table {\n",
       "  /* width: 100%; */\n",
       "  margin-top: 1em;\n",
       "  margin-bottom: 1em;\n",
       "}\n",
       "#h2o-table-1 .h2o-table caption {\n",
       "  white-space: nowrap;\n",
       "  caption-side: top;\n",
       "  text-align: left;\n",
       "  /* margin-left: 1em; */\n",
       "  margin: 0;\n",
       "  font-size: larger;\n",
       "}\n",
       "#h2o-table-1 .h2o-table thead {\n",
       "  white-space: nowrap; \n",
       "  position: sticky;\n",
       "  top: 0;\n",
       "  box-shadow: 0 -1px inset;\n",
       "}\n",
       "#h2o-table-1 .h2o-table tbody {\n",
       "  overflow: auto;\n",
       "}\n",
       "#h2o-table-1 .h2o-table th,\n",
       "#h2o-table-1 .h2o-table td {\n",
       "  text-align: right;\n",
       "  /* border: 1px solid; */\n",
       "}\n",
       "#h2o-table-1 .h2o-table tr:nth-child(even) {\n",
       "  /* background: #F5F5F5 */\n",
       "}\n",
       "\n",
       "</style>      \n",
       "<div id=\"h2o-table-1\" class=\"h2o-container\">\n",
       "  <table class=\"h2o-table\">\n",
       "    <caption></caption>\n",
       "    <thead></thead>\n",
       "    <tbody><tr><td>H2O_cluster_uptime:</td>\n",
       "<td>01 secs</td></tr>\n",
       "<tr><td>H2O_cluster_timezone:</td>\n",
       "<td>America/Chicago</td></tr>\n",
       "<tr><td>H2O_data_parsing_timezone:</td>\n",
       "<td>UTC</td></tr>\n",
       "<tr><td>H2O_cluster_version:</td>\n",
       "<td>3.46.0.6</td></tr>\n",
       "<tr><td>H2O_cluster_version_age:</td>\n",
       "<td>1 month and 21 days</td></tr>\n",
       "<tr><td>H2O_cluster_name:</td>\n",
       "<td>H2O_from_python_Sai_0tpf52</td></tr>\n",
       "<tr><td>H2O_cluster_total_nodes:</td>\n",
       "<td>1</td></tr>\n",
       "<tr><td>H2O_cluster_free_memory:</td>\n",
       "<td>7.929 Gb</td></tr>\n",
       "<tr><td>H2O_cluster_total_cores:</td>\n",
       "<td>0</td></tr>\n",
       "<tr><td>H2O_cluster_allowed_cores:</td>\n",
       "<td>0</td></tr>\n",
       "<tr><td>H2O_cluster_status:</td>\n",
       "<td>locked, healthy</td></tr>\n",
       "<tr><td>H2O_connection_url:</td>\n",
       "<td>http://127.0.0.1:54321</td></tr>\n",
       "<tr><td>H2O_connection_proxy:</td>\n",
       "<td>{\"http\": null, \"https\": null}</td></tr>\n",
       "<tr><td>H2O_internal_security:</td>\n",
       "<td>False</td></tr>\n",
       "<tr><td>Python_version:</td>\n",
       "<td>3.12.7 final</td></tr></tbody>\n",
       "  </table>\n",
       "</div>\n"
      ],
      "text/plain": [
       "--------------------------  -----------------------------\n",
       "H2O_cluster_uptime:         01 secs\n",
       "H2O_cluster_timezone:       America/Chicago\n",
       "H2O_data_parsing_timezone:  UTC\n",
       "H2O_cluster_version:        3.46.0.6\n",
       "H2O_cluster_version_age:    1 month and 21 days\n",
       "H2O_cluster_name:           H2O_from_python_Sai_0tpf52\n",
       "H2O_cluster_total_nodes:    1\n",
       "H2O_cluster_free_memory:    7.929 Gb\n",
       "H2O_cluster_total_cores:    0\n",
       "H2O_cluster_allowed_cores:  0\n",
       "H2O_cluster_status:         locked, healthy\n",
       "H2O_connection_url:         http://127.0.0.1:54321\n",
       "H2O_connection_proxy:       {\"http\": null, \"https\": null}\n",
       "H2O_internal_security:      False\n",
       "Python_version:             3.12.7 final\n",
       "--------------------------  -----------------------------"
      ]
     },
     "metadata": {},
     "output_type": "display_data"
    },
    {
     "name": "stdout",
     "output_type": "stream",
     "text": [
      "Counter({0: 2587, 26: 270, 8: 270, 84: 267, 71: 266, 57: 265, 32: 264, 12: 264, 51: 263, 88: 262, 69: 261, 77: 261, 6: 260, 61: 258, 83: 257, 9: 256, 40: 254, 11: 254, 92: 253, 27: 251, 16: 250, 10: 247, 64: 247, 66: 246, 4: 246, 31: 246, 90: 245, 76: 245, 91: 245, 39: 245, 60: 244, 29: 244, 30: 243, 37: 243, 87: 243, 82: 242, 17: 242, 5: 242, 62: 241, 14: 241, 74: 240, 95: 240, 89: 240, 55: 240, 63: 237, 18: 237, 85: 237, 21: 236, 53: 235, 7: 235, 34: 234, 81: 234, 48: 233, 80: 233, 20: 233, 54: 232, 93: 232, 38: 232, 56: 232, 49: 231, 22: 231, 52: 231, 15: 231, 35: 231, 2: 230, 58: 230, 19: 230, 42: 229, 24: 229, 23: 228, 75: 228, 78: 227, 50: 227, 65: 226, 44: 223, 33: 222, 59: 221, 28: 220, 68: 220, 47: 219, 72: 219, 3: 219, 36: 216, 25: 216, 1: 214, 86: 212, 45: 211, 73: 209, 67: 208, 70: 208, 46: 208, 41: 207, 43: 206, 79: 204, 13: 199, 94: 178})\n"
     ]
    }
   ],
   "source": [
    "data = pd.read_csv(f\"../archive/ascii_character_classification_{height}_x_{width}.csv\", header=0).sample(frac=.05)\n",
    "label_counts = Counter(data.iloc[:, 0])\n",
    "print(label_counts)\n"
   ]
  },
  {
   "cell_type": "code",
   "execution_count": 6,
   "metadata": {},
   "outputs": [
    {
     "name": "stdout",
     "output_type": "stream",
     "text": [
      "Parse progress: |████████████████████████████████████████████████████████████████| (done) 100%\n"
     ]
    }
   ],
   "source": [
    "# Move to GPU by converting to cupy arrays (cuML uses GPU arrays via CuPy)\n",
    "X = cp.array(data.iloc[:, 1:].astype(\"float64\"))\n",
    "y = cp.array(data.iloc[:, 0].astype(\"float64\"))\n",
    "\n",
    "# Split the data into train and test sets\n",
    "X_train, X_test, y_train, y_test = train_test_split(X, y, test_size=0.2, random_state=42)\n"
   ]
  },
  {
   "cell_type": "code",
   "execution_count": null,
   "metadata": {},
   "outputs": [],
   "source": [
    "# cuML Random Forest Classifier\n",
    "clf = cuMLRandomForestClassifier(n_estimators=100, random_state=42)\n",
    "clf.fit(X_train, y_train)\n",
    "\n",
    "# Save the model\n",
    "joblib.dump(clf, '../artifacts/random_forest_model_10_x_10_cuml.pkl')\n"
   ]
  },
  {
   "cell_type": "code",
   "execution_count": 9,
   "metadata": {},
   "outputs": [
    {
     "name": "stdout",
     "output_type": "stream",
     "text": [
      "drf Model Build progress: |██████████████████████████████████████████████████████| (done) 100%\n"
     ]
    },
    {
     "ename": "AttributeError",
     "evalue": "type object 'MetricsBase' has no attribute 'accuracy'",
     "output_type": "error",
     "traceback": [
      "\u001b[1;31m---------------------------------------------------------------------------\u001b[0m",
      "\u001b[1;31mAttributeError\u001b[0m                            Traceback (most recent call last)",
      "Cell \u001b[1;32mIn[9], line 10\u001b[0m\n\u001b[0;32m      7\u001b[0m test_performance \u001b[38;5;241m=\u001b[39m clf\u001b[38;5;241m.\u001b[39mmodel_performance(test)\n\u001b[0;32m      9\u001b[0m \u001b[38;5;66;03m# Correctly access accuracy, F1, and recall from ModelMetrics\u001b[39;00m\n\u001b[1;32m---> 10\u001b[0m train_accuracy \u001b[38;5;241m=\u001b[39m \u001b[43mtrain_performance\u001b[49m\u001b[38;5;241;43m.\u001b[39;49m\u001b[43maccuracy\u001b[49m()[\u001b[38;5;241m0\u001b[39m][\u001b[38;5;241m1\u001b[39m] \u001b[38;5;241m*\u001b[39m \u001b[38;5;241m100\u001b[39m\n\u001b[0;32m     11\u001b[0m test_accuracy \u001b[38;5;241m=\u001b[39m test_performance\u001b[38;5;241m.\u001b[39maccuracy()[\u001b[38;5;241m0\u001b[39m][\u001b[38;5;241m1\u001b[39m] \u001b[38;5;241m*\u001b[39m \u001b[38;5;241m100\u001b[39m\n\u001b[0;32m     12\u001b[0m train_f1 \u001b[38;5;241m=\u001b[39m train_performance\u001b[38;5;241m.\u001b[39mF1()[\u001b[38;5;241m0\u001b[39m][\u001b[38;5;241m1\u001b[39m] \u001b[38;5;241m*\u001b[39m \u001b[38;5;241m100\u001b[39m\n",
      "File \u001b[1;32mc:\\Users\\Sai\\AppData\\Local\\Programs\\Python\\Python312\\Lib\\site-packages\\h2o\\utils\\metaclass.py:352\u001b[0m, in \u001b[0;36m_BackwardsCompatible.__call__.<locals>.__getattr__\u001b[1;34m(self, name)\u001b[0m\n\u001b[0;32m    350\u001b[0m \u001b[38;5;28;01mif\u001b[39;00m name \u001b[38;5;241m!=\u001b[39m \u001b[38;5;124m'\u001b[39m\u001b[38;5;124m_bci\u001b[39m\u001b[38;5;124m'\u001b[39m \u001b[38;5;129;01mand\u001b[39;00m name \u001b[38;5;129;01min\u001b[39;00m \u001b[38;5;28mself\u001b[39m\u001b[38;5;241m.\u001b[39m_bci:\n\u001b[0;32m    351\u001b[0m     \u001b[38;5;28;01mreturn\u001b[39;00m \u001b[38;5;28mself\u001b[39m\u001b[38;5;241m.\u001b[39m_bci[name]\n\u001b[1;32m--> 352\u001b[0m \u001b[38;5;28;01mreturn\u001b[39;00m \u001b[38;5;28;43mgetattr\u001b[39;49m\u001b[43m(\u001b[49m\u001b[43mnew_clz\u001b[49m\u001b[43m,\u001b[49m\u001b[43m \u001b[49m\u001b[43mname\u001b[49m\u001b[43m)\u001b[49m\n",
      "File \u001b[1;32mc:\\Users\\Sai\\AppData\\Local\\Programs\\Python\\Python312\\Lib\\site-packages\\h2o\\utils\\metaclass.py:397\u001b[0m, in \u001b[0;36mH2OMeta.__getattribute__\u001b[1;34m(cls, name)\u001b[0m\n\u001b[0;32m    395\u001b[0m     \u001b[38;5;28;01mif\u001b[39;00m attr \u001b[38;5;129;01mis\u001b[39;00m \u001b[38;5;129;01mnot\u001b[39;00m MetaFeature\u001b[38;5;241m.\u001b[39mNOT_FOUND:\n\u001b[0;32m    396\u001b[0m         \u001b[38;5;28;01mreturn\u001b[39;00m attr\n\u001b[1;32m--> 397\u001b[0m \u001b[38;5;28;01mreturn\u001b[39;00m \u001b[38;5;28;43mtype\u001b[39;49m\u001b[38;5;241;43m.\u001b[39;49m\u001b[38;5;21;43m__getattribute__\u001b[39;49m\u001b[43m(\u001b[49m\u001b[38;5;28;43mcls\u001b[39;49m\u001b[43m,\u001b[49m\u001b[43m \u001b[49m\u001b[43mname\u001b[49m\u001b[43m)\u001b[49m\n",
      "\u001b[1;31mAttributeError\u001b[0m: type object 'MetricsBase' has no attribute 'accuracy'"
     ]
    }
   ],
   "source": [
    "# Predict and evaluate\n",
    "y_pred_train = clf.predict(X_train)\n",
    "train_accuracy = cuml_accuracy_score(y_train, y_pred_train)\n",
    "\n",
    "y_pred_test = clf.predict(X_test)\n",
    "test_accuracy = cuml_accuracy_score(y_test, y_pred_test)\n",
    "\n",
    "f1 = cuml_f1_score(y_test, y_pred_test, average='weighted')\n",
    "recall = cuml_recall_score(y_test, y_pred_test, average='weighted')\n",
    "\n",
    "print(f\"Train Accuracy: {train_accuracy*100:.4f}%\")\n",
    "print(f\"Test Accuracy: {test_accuracy*100:.4f}%\")\n",
    "print(f\"F1 Score: {f1*100:.4f}%\")\n",
    "print(f\"Recall: {recall*100:.4f}%\")"
   ]
  },
  {
   "cell_type": "code",
   "execution_count": 4,
   "metadata": {},
   "outputs": [
    {
     "ename": "NameError",
     "evalue": "name 'clf' is not defined",
     "output_type": "error",
     "traceback": [
      "\u001b[0;31m---------------------------------------------------------------------------\u001b[0m",
      "\u001b[0;31mNameError\u001b[0m                                 Traceback (most recent call last)",
      "Cell \u001b[0;32mIn[4], line 2\u001b[0m\n\u001b[1;32m      1\u001b[0m \u001b[38;5;66;03m# Make predictions on the test set\u001b[39;00m\n\u001b[0;32m----> 2\u001b[0m y_pred \u001b[38;5;241m=\u001b[39m \u001b[43mclf\u001b[49m\u001b[38;5;241m.\u001b[39mpredict(X_test)\n\u001b[1;32m      4\u001b[0m \u001b[38;5;66;03m# Calculate evaluation metrics\u001b[39;00m\n\u001b[1;32m      5\u001b[0m accuracy \u001b[38;5;241m=\u001b[39m accuracy_score(y_test, y_pred)\n",
      "\u001b[0;31mNameError\u001b[0m: name 'clf' is not defined"
     ]
    }
   ],
   "source": [
    "def extract_hog_features(images):\n",
    "    hog_features = []\n",
    "    for image in images:\n",
    "        image_reshaped = image.reshape((height, width))\n",
    "        features = hog(image_reshaped, pixels_per_cell=(2, 2), cells_per_block=(1, 1), feature_vector=True)\n",
    "        hog_features.append(features)\n",
    "    return np.array(hog_features)\n",
    "\n",
    "# Move HOG features extraction to GPU (optional if needed)\n",
    "X_hog = extract_hog_features(cp.asnumpy(X))  # Convert to CPU to use scikit-image\n",
    "X_hog = cp.array(X_hog)  # Convert back to GPU\n",
    "\n",
    "X_train, X_test, y_train, y_test = train_test_split(X_hog, y, test_size=0.2, random_state=42)\n"
   ]
  },
  {
   "cell_type": "code",
   "execution_count": null,
   "metadata": {},
   "outputs": [],
   "source": [
    "# cuML Random Forest Classifier for HOG features\n",
    "clf_hog = cuMLRandomForestClassifier(n_estimators=100, random_state=42)\n",
    "clf_hog.fit(X_train, y_train)\n",
    "\n",
    "# Save the HOG model\n",
    "joblib.dump(clf_hog, '../artifacts/random_forest_model_hog_10_x_10_cuml.pkl')\n"
   ]
  },
  {
   "cell_type": "code",
   "execution_count": null,
   "metadata": {},
   "outputs": [],
   "source": [
    "y_pred_train_hog = clf_hog.predict(X_train)\n",
    "train_accuracy_hog = cuml_accuracy_score(y_train, y_pred_train_hog)\n",
    "\n",
    "y_pred_test_hog = clf_hog.predict(X_test)\n",
    "test_accuracy_hog = cuml_accuracy_score(y_test, y_pred_test_hog)\n",
    "\n",
    "f1_hog = cuml_f1_score(y_test, y_pred_test_hog, average='weighted')\n",
    "recall_hog = cuml_recall_score(y_test, y_pred_test_hog, average='weighted')\n",
    "\n",
    "print(f\"Train Accuracy (HOG): {train_accuracy_hog*100:.4f}%\")\n",
    "print(f\"Test Accuracy (HOG): {test_accuracy_hog*100:.4f}%\")\n",
    "print(f\"F1 Score (HOG): {f1_hog*100:.4f}%\")\n",
    "print(f\"Recall (HOG): {recall_hog*100:.4f}%\")\n"
   ]
  },
  {
   "cell_type": "code",
   "execution_count": null,
   "metadata": {},
   "outputs": [],
   "source": [
    "# Extract SIFT features\n",
    "def extract_sift_features(images):\n",
    "    sift = cv2.SIFT_create()\n",
    "    sift_features = []\n",
    "    \n",
    "    for image in images:\n",
    "        image_reshaped = image.reshape((height, width)).astype(np.uint8)\n",
    "        keypoints, descriptors = sift.detectAndCompute(image_reshaped, None)\n",
    "        \n",
    "        if descriptors is None:\n",
    "            descriptors = np.zeros((1, sift.descriptorSize()), dtype=np.float32)\n",
    "        \n",
    "        features = descriptors.flatten()\n",
    "        sift_features.append(features)\n",
    "    \n",
    "    return np.array(sift_features)\n",
    "\n",
    "X_sift = extract_sift_features(cp.asnumpy(X))  # Convert to CPU for OpenCV\n",
    "X_sift = cp.array(X_sift)  # Convert back to GPU\n",
    "\n",
    "# Pad descriptors to consistent length\n",
    "max_len = max(len(f) for f in X_sift)\n",
    "X_sift = cp.array([np.pad(f, (0, max_len - len(f)), 'constant') for f in X_sift])\n",
    "\n",
    "X_train, X_test, y_train, y_test = train_test_split(X_sift, y, test_size=0.2, random_state=42)\n"
   ]
  },
  {
   "cell_type": "code",
   "execution_count": null,
   "metadata": {},
   "outputs": [],
   "source": [
    "# cuML Random Forest Classifier for SIFT features\n",
    "clf_sift = cuMLRandomForestClassifier(n_estimators=100, random_state=42)\n",
    "clf_sift.fit(X_train, y_train)\n",
    "\n",
    "# Save the SIFT model\n",
    "joblib.dump(clf_sift, '../artifacts/random_forest_model_sift_10_x_10_cuml.pkl')\n",
    "\n",
    "# %%\n",
    "y_pred_train_sift = clf_sift.predict(X_train)\n",
    "train_accuracy_sift = cuml_accuracy_score(y_train, y_pred_train_sift)\n",
    "\n",
    "y_pred_test_sift = clf_sift.predict(X_test)\n",
    "test_accuracy_sift = cuml_accuracy_score(y_test, y_pred_test_sift)\n",
    "\n",
    "f1_sift = cuml_f1_score(y_test, y_pred_test_sift, average='weighted')\n",
    "recall_sift = cuml_recall_score(y_test, y_pred_test_sift, average='weighted')\n",
    "\n",
    "print(f\"Train Accuracy (SIFT): {train_accuracy_sift*100:.4f}%\")\n",
    "print(f\"Test Accuracy (SIFT): {test_accuracy_sift*100:.4f}%\")\n",
    "print(f\"F1 Score (SIFT): {f1_sift*100:.4f}%\")\n",
    "print(f\"Recall (SIFT): {recall_sift*100:.4f}%\")"
   ]
  }
 ],
 "metadata": {
  "kernelspec": {
   "display_name": "Python 3",
   "language": "python",
   "name": "python3"
  },
  "language_info": {
   "codemirror_mode": {
    "name": "ipython",
    "version": 3
   },
   "file_extension": ".py",
   "mimetype": "text/x-python",
   "name": "python",
   "nbconvert_exporter": "python",
   "pygments_lexer": "ipython3",
   "version": "3.12.7"
  }
 },
 "nbformat": 4,
 "nbformat_minor": 2
}

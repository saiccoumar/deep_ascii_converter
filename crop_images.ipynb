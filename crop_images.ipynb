{
 "cells": [
  {
   "cell_type": "code",
   "execution_count": null,
   "metadata": {},
   "outputs": [],
   "source": [
    "import os\n",
    "import numpy as np\n",
    "import cv2\n",
    "import matplotlib.image as mpimg\n",
    "import matplotlib.pyplot as plt\n",
    "from skimage.metrics import structural_similarity as ssim"
   ]
  },
  {
   "cell_type": "code",
   "execution_count": null,
   "metadata": {},
   "outputs": [],
   "source": [
    "def preprocess_image(image_path, threshold=125):\n",
    "    \"\"\"\n",
    "    Preprocesses an image by binarizing it based on a given threshold.\n",
    "\n",
    "    Args:\n",
    "        image_path (str): Path to the image.\n",
    "        threshold (int): Threshold for binarization (0-255). Defaults to 125.\n",
    "\n",
    "    Returns:\n",
    "        np.ndarray: Binarized image array.\n",
    "    \"\"\"\n",
    "    img = mpimg.imread(image_path)\n",
    "    if img.ndim == 3:  # Convert RGB to grayscale if necessary\n",
    "        img = np.mean(img, axis=2)\n",
    "    binary_img = (img > threshold / 255.0).astype(float)\n",
    "    return binary_img\n",
    "\n",
    "def crop_whitespace(image):\n",
    "    \"\"\"\n",
    "    Crops the whitespace from the image by detecting the first non-white pixel \n",
    "    on all sides (top, bottom, left, right).\n",
    "\n",
    "    Args:\n",
    "        image (np.ndarray): Binarized image array.\n",
    "\n",
    "    Returns:\n",
    "        tuple: Cropping boundaries (top, bottom, left, right).\n",
    "    \"\"\"\n",
    "    non_white_rows = np.any(image != 1, axis=1)  # Rows where any pixel is not white\n",
    "    non_white_cols = np.any(image != 1, axis=0)  # Columns where any pixel is not white\n",
    "\n",
    "    top = np.argmax(non_white_rows)\n",
    "    bottom = len(non_white_rows) - np.argmax(non_white_rows[::-1]) - 1\n",
    "    left = np.argmax(non_white_cols)\n",
    "    right = len(non_white_cols) - np.argmax(non_white_cols[::-1]) - 1\n",
    "\n",
    "    return top, bottom, left, right"
   ]
  },
  {
   "cell_type": "code",
   "execution_count": null,
   "metadata": {},
   "outputs": [],
   "source": [
    "output_folder = 'cropped_images'\n",
    "# Create output folder if it doesn't exist\n",
    "os.makedirs(output_folder, exist_ok=True)\n",
    "\n",
    "reference_image = cv2.imread('oscii_data\\images\\\\21 original.png', cv2.IMREAD_GRAYSCALE)\n",
    "cropped_reference_image = crop_whitespace(preprocess_image(\"oscii_data\\images\\\\21 original.png\"))\n",
    "# List of image file names to compare with the reference image\n",
    "titles = [\"Original Image\", \"AISS\", \"Neural Network\", \n",
    "              \"k-NN\", \"SVM\", \"Random Forest\", \n",
    "            \"k-NN no HOG\", \"SVM no HOG\", \"Random Forest no HOG\", \n",
    "              \"CNN\", \"ResNet\", \"MobileNetV2\", \"AAConverter\"]\n",
    "image_filenames = ['oscii_data\\images\\\\21 original.png', 'examples\\oscii_ex_catgirl\\inverted_aiss.png', 'examples\\oscii_ex_catgirl\\inverted_nn.png',\n",
    "    'examples\\oscii_ex_catgirl\\inverted_knn.png', 'examples\\oscii_ex_catgirl\\inverted_svm.png', 'examples\\oscii_ex_catgirl\\inverted_rforest.png', \n",
    "    'examples\\oscii_ex_catgirl\\inverted_knn_no_hog.png', 'examples\\oscii_ex_catgirl\\inverted_svm_no_hog.png', 'examples\\oscii_ex_catgirl\\inverted_rforest_no_hog.png', \n",
    "     'examples\\oscii_ex_catgirl\\inverted_cnn.png', 'examples\\oscii_ex_catgirl\\inverted_resnet.png', 'examples\\oscii_ex_catgirl\\inverted_mobile.png', \n",
    "           'examples\\oscii_ex_catgirl\\\\aaconverter.png'\n",
    "     ] "
   ]
  },
  {
   "cell_type": "code",
   "execution_count": null,
   "metadata": {},
   "outputs": [],
   "source": [
    "for i, filename in enumerate(image_filenames):\n",
    "    # Load the original image\n",
    "    original_image = mpimg.imread(filename)\n",
    "\n",
    "    # Generate the binarized image for boundary calculation\n",
    "    binarized_image = preprocess_image(filename)\n",
    "\n",
    "    # Get cropping dimensions\n",
    "    top, bottom, left, right = crop_whitespace(binarized_image)\n",
    "\n",
    "    # Crop the original image using these dimensions\n",
    "    cropped_original_image = original_image[top:bottom + 1, left:right + 1]\n",
    "\n",
    "    # Save the cropped image in a lossless format\n",
    "    output_path = os.path.join(output_folder, os.path.basename(filename))\n",
    "    if cropped_original_image.max() <= 1.0:  # If the image is normalized (0-1)\n",
    "        cropped_original_image = (cropped_original_image * 255).astype(np.uint8)\n",
    "    cv2.imwrite(output_path, cropped_original_image)\n",
    "    print(f\"Cropped image saved to: {output_path}\")"
   ]
  }
 ],
 "metadata": {
  "kernelspec": {
   "display_name": "Python 3",
   "language": "python",
   "name": "python3"
  },
  "language_info": {
   "name": "python",
   "version": "3.12.7"
  }
 },
 "nbformat": 4,
 "nbformat_minor": 2
}
